{
 "cells": [
  {
   "cell_type": "code",
   "execution_count": 40,
   "id": "c4b966ff-fc47-4239-b89c-5bb0920c8286",
   "metadata": {},
   "outputs": [
    {
     "data": {
      "text/plain": [
       "[[2.1, 6.4, 1],\n",
       " [3.8, 2.2, 1],\n",
       " [15.7, 4.4, 1],\n",
       " [26.7, 4.6, 1],\n",
       " [10.7, 4.9, 1],\n",
       " [11.3, 5.1, 1],\n",
       " [120.7, 3.1, 1],\n",
       " [140.3, 4.1, 1],\n",
       " [30.0, 5.1, 1],\n",
       " [45.0, 4.2, 1],\n",
       " [80.0, 3.7, 1],\n",
       " [20.0, 5.2, 1],\n",
       " [100.0, 4.0, 1],\n",
       " [80.0, 4.0, 1],\n",
       " [70.0, 1.5, 1],\n",
       " [40.0, 1.0, 0],\n",
       " [100.0, 2.0, 0],\n",
       " [40.0, 2.7, 0],\n",
       " [63.0, 1.5, 0],\n",
       " [0.7, 1.2, 0],\n",
       " [0.5, 0.8, 0],\n",
       " [0.8, 1.5, 0],\n",
       " [0.2, 1.1, 0],\n",
       " [0.1, 0.8, 0],\n",
       " [20.0, 2.2, 0],\n",
       " [60.0, 2.1, 0],\n",
       " [105.0, 0.4, 0],\n",
       " [10.0, 1.2, 0],\n",
       " [15.0, 1.7, 0],\n",
       " [12.0, 1.0, 0]]"
      ]
     },
     "execution_count": 40,
     "metadata": {},
     "output_type": "execute_result"
    }
   ],
   "source": [
    "import math\n",
    "\n",
    "transactions = []\n",
    "f = open(\"./transactions.csv\", \"r\")\n",
    "for line in f:\n",
    "    line = line.split(',')\n",
    "    l1 = [float(line[0]), float(line[1]), int(line[2])]\n",
    "    transactions.append(l1)\n",
    "\n",
    "transactions\n"
   ]
  },
  {
   "cell_type": "code",
   "execution_count": 41,
   "id": "1898f9a7-f3e2-4dc1-836d-598430e1053d",
   "metadata": {},
   "outputs": [],
   "source": [
    "def euclidean(instance1, instance2):\n",
    "    dist = 0.0\n",
    "    for i in range(len(instance1)):\n",
    "        dist += (instance1[i] - instance2[i])**2\n",
    "    return math.sqrt(dist)"
   ]
  },
  {
   "cell_type": "code",
   "execution_count": 42,
   "id": "f1de11e1-e50a-4d96-8804-d6b9f87fba07",
   "metadata": {},
   "outputs": [
    {
     "name": "stdout",
     "output_type": "stream",
     "text": [
      "[(3.0999999999999996, 8), (4.201190307520001, 3), (10.00199980003999, 24), (10.024470060806207, 17), (10.04987562112089, 15), (10.49952379872535, 11), (14.5, 2), (15.002999700059986, 28), (15.16047492659778, 9), (18.027756377319946, 29), (18.95521036549054, 5), (19.51665955024066, 4), (20.015993605114886, 27), (26.200763347658402, 1), (28.244822534404424, 0), (29.204280508172086, 21), (29.31091946698363, 19), (29.524396691549857, 20), (29.813587506370315, 22), (29.924070578716393, 23), (30.000166666203707, 25), (33.0037876614185, 18), (40.00312487793922, 14), (50.02889165272403, 10), (50.039984012787215, 13), (70.0, 16), (70.02856560004639, 12), (75.01706472530101, 26), (90.70667009652597, 6), (110.31998912255204, 7)]\n"
     ]
    }
   ],
   "source": [
    "#Implement k-NN algorithm\n",
    "def get_distances(data, query):\n",
    "    distances = []\n",
    "    for i, instance in enumerate(data):  #Enumerate loops over a list while keeping track of indexes of current items\n",
    "        dist = euclidean(instance[:-1], query) #-1 removes the last value, so mass and height are compared\n",
    "        distances.append((dist, i))  \n",
    "    distances.sort() \n",
    "    return distances\n",
    "\n",
    "def knn_estimate(data, query, k=5):\n",
    "    distances = get_distances(data, query)\n",
    "    \n",
    "    votes = {}\n",
    "    for i in range(k):\n",
    "        idx = distances[i][1]  \n",
    "        label = data[idx][-1]  \n",
    "        votes[label] = votes.get(label, 0) + 1\n",
    "    \n",
    "    return max(votes, key=votes.get)\n",
    "\n",
    "query = [30,2,-1]\n",
    "\n",
    "print(get_distances(transactions, query))\n",
    "\n"
   ]
  },
  {
   "cell_type": "code",
   "execution_count": 43,
   "id": "0ab47a46-4235-4eec-8034-b19788b580db",
   "metadata": {},
   "outputs": [
    {
     "name": "stdout",
     "output_type": "stream",
     "text": [
      "0\n",
      "0\n",
      "1\n"
     ]
    }
   ],
   "source": [
    "print(knn_estimate(transactions, [30,2], k=5))\n",
    "print(knn_estimate(transactions, [30,2], k=5))\n",
    "print(knn_estimate(transactions, [200,6]))"
   ]
  },
  {
   "cell_type": "code",
   "execution_count": 61,
   "id": "eefde8d1-128d-4099-b7f9-72ae06fe653b",
   "metadata": {},
   "outputs": [
    {
     "name": "stdout",
     "output_type": "stream",
     "text": [
      "0.7777777777777778\n",
      "Predicted fruit: mandarin\n"
     ]
    }
   ],
   "source": [
    "import pandas as pd\n",
    "\n",
    "df = pd.read_table('fruit_data.txt')\n",
    "\n",
    "X = df[['mass', 'height']]\n",
    "Y = df['fruit_name']\n",
    "\n",
    "\n",
    "\n",
    "from sklearn.model_selection import train_test_split\n",
    "X_train, X_test, y_train, y_test = train_test_split(X, Y, test_size=0.3, random_state=50)\n",
    "\n",
    "\n",
    "from sklearn.neighbors import KNeighborsClassifier\n",
    "\n",
    "knn = KNeighborsClassifier(n_neighbors=3)\n",
    "knn.fit(X_train, y_train)\n",
    "\n",
    "print(knn.score(X_test, y_test))\n",
    "\n",
    "query_df = pd.DataFrame([[21, 5.4]], columns=['mass', 'height'])\n",
    "query_prediction = knn.predict(query_df)\n",
    "\n",
    "print(f\"Predicted fruit: {query_prediction[0]}\")\n"
   ]
  },
  {
   "cell_type": "code",
   "execution_count": 50,
   "id": "e6613001-f6f3-41d5-b0e6-b3058fc79912",
   "metadata": {},
   "outputs": [
    {
     "data": {
      "text/plain": [
       "<matplotlib.collections.PathCollection at 0x7d20577de150>"
      ]
     },
     "execution_count": 50,
     "metadata": {},
     "output_type": "execute_result"
    },
    {
     "data": {
      "image/png": "[encoded data removed]",
      "text/plain": [
       "<Figure size 640x480 with 1 Axes>"
      ]
     },
     "metadata": {},
     "output_type": "display_data"
    }
   ],
   "source": [
    "import matplotlib.pyplot as plt\n",
    "colors_map = {'apple': 'red', 'mandarin': 'blue', 'orange':'orange', 'lemon':'yellow'}\n",
    "colors = [colors_map[c] for c in y_train]\n",
    "plt.scatter(X_train.mass, X_train.height, c = colors)\n"
   ]
  },
  {
   "cell_type": "code",
   "execution_count": 68,
   "id": "474fc47e-82ef-41b5-8c07-576b63ad79d4",
   "metadata": {},
   "outputs": [
    {
     "name": "stdout",
     "output_type": "stream",
     "text": [
      "0.21224809297871927\n",
      "Predicted prices: [4165000.         5565000.         3103333.33333333 5558000.\n",
      " 4564000.         6206666.66666667 5145000.         3990000.\n",
      " 3360000.         6265000.         3453333.33333333 3010000.\n",
      " 5217333.33333333 5868333.33333333 3420666.66666667 4503333.33333333\n",
      " 6253333.33333333 4159166.66666667 5320000.         5996666.66666667\n",
      " 5915000.         8131666.66666667 6134333.33333333 3453333.33333333\n",
      " 5558000.         3406666.66666667 5565000.         3474333.33333333\n",
      " 6171666.66666667 4118333.33333333 4281666.66666667 4771666.66666667\n",
      " 3196666.66666667 4760000.         4564000.         4013333.33333333\n",
      " 3640000.         9403333.33333333 5110000.         4503333.33333333\n",
      " 3952666.66666667 2135000.         4771666.66666667 4571000.\n",
      " 3560666.66666667 3332000.         5460000.         6160000.\n",
      " 4130000.         4876666.66666667 6755000.         3560666.66666667\n",
      " 7151666.66666667 3209500.         3605000.         7151666.66666667\n",
      " 7151666.66666667 4970000.         5337500.         3560666.66666667\n",
      " 5901000.         5973333.33333333 4159166.66666667 6545000.\n",
      " 6125000.         5390000.         3920000.         3196666.66666667\n",
      " 3710000.         5040000.         4708666.66666667 3934000.\n",
      " 3934000.         3454500.         4176666.66666667 6125000.\n",
      " 3488333.33333333 5259333.33333333 5121666.66666667 2835000.\n",
      " 5565000.         4771666.66666667 7046666.66666667 5092500.\n",
      " 2846666.66666667 5131000.         6276666.66666667 3196666.66666667\n",
      " 3173333.33333333 6160000.         5569666.66666667 4760000.\n",
      " 3301666.66666667 6206666.66666667 6428333.33333333 3185000.\n",
      " 5763333.33333333 6300000.         7023333.33333333 4071666.66666667\n",
      " 3560666.66666667 7149333.33333333 4573333.33333333 3861666.66666667\n",
      " 3208333.33333333 3861666.66666667 3313333.33333333 5131000.\n",
      " 3649333.33333333]\n"
     ]
    }
   ],
   "source": [
    "\n",
    "import pandas as pd\n",
    "from sklearn.model_selection import train_test_split\n",
    "from sklearn.neighbors import KNeighborsRegressor\n",
    "\n",
    "df = pd.read_csv(\"Housing.csv\")\n",
    "\n",
    "\n",
    "X = df[['area', 'bedrooms', 'bathrooms', 'stories']]  \n",
    "y = df['price']  \n",
    "\n",
    "X_train, X_test, y_train, y_test = train_test_split(X, y, test_size=0.2, random_state=50) \n",
    "\n",
    "knn = KNeighborsRegressor(n_neighbors=3)\n",
    "\n",
    "knn.fit(X_train, y_train)\n",
    "\n",
    "# 1 hot encoding\n",
    "# level encoding\n",
    "\n",
    "print(knn.score(X_test, y_test))\n",
    "\n",
    "y_pred = knn.predict(X_test)\n",
    "\n",
    "print(\"Predicted prices:\", y_pred)"
   ]
  },
  {
   "cell_type": "code",
   "execution_count": null,
   "id": "e588bc14",
   "metadata": {},
   "outputs": [],
   "source": []
  }
 ],
 "metadata": {
  "kernelspec": {
   "display_name": "Python 3 (ipykernel)",
   "language": "python",
   "name": "python3"
  },
  "language_info": {
   "codemirror_mode": {
    "name": "ipython",
    "version": 3
   },
   "file_extension": ".py",
   "mimetype": "text/x-python",
   "name": "python",
   "nbconvert_exporter": "python",
   "pygments_lexer": "ipython3",
   "version": "3.12.6"
  }
 },
 "nbformat": 4,
 "nbformat_minor": 5
}
