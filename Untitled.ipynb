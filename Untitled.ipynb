{
 "cells": [
  {
   "cell_type": "code",
   "execution_count": 73,
   "id": "d53e0f76-98de-4ddb-8060-ae3434bb08d0",
   "metadata": {},
   "outputs": [
    {
     "name": "stdout",
     "output_type": "stream",
     "text": [
      "32\n"
     ]
    }
   ],
   "source": [
    "# Opening with pandas \n",
    "import csv\n",
    "import pandas as pd\n",
    "\n",
    "df = pd.read_csv('loans.csv', encoding='utf-8-sig')\n",
    "\n",
    "df\n",
    "\n",
    "# 3 row \n",
    "\n",
    "# Normal csv lib in python \n",
    "with open('loans.csv' , encoding='utf-8-sig') as csvfile:\n",
    "    reader = csv.reader(csvfile, delimiter=',')\n",
    "    # Pythonic way of doing it\n",
    "    # yongest = min(int(row[2]) for row in reader)\n",
    "    \n",
    "    yongest = int(next(reader)[2])\n",
    "    for row in reader:\n",
    "        yongest = min(yongest, int(row[2]))\n",
    "\n",
    "    print(yongest)"
   ]
  },
  {
   "cell_type": "code",
   "execution_count": 69,
   "id": "709538d3-ebec-43d7-8027-0395a91ea5c7",
   "metadata": {},
   "outputs": [
    {
     "data": {
      "text/html": [
       "<div>\n",
       "<style scoped>\n",
       "    .dataframe tbody tr th:only-of-type {\n",
       "        vertical-align: middle;\n",
       "    }\n",
       "\n",
       "    .dataframe tbody tr th {\n",
       "        vertical-align: top;\n",
       "    }\n",
       "\n",
       "    .dataframe thead th {\n",
       "        text-align: right;\n",
       "    }\n",
       "</style>\n",
       "<table border=\"1\" class=\"dataframe\">\n",
       "  <thead>\n",
       "    <tr style=\"text-align: right;\">\n",
       "      <th></th>\n",
       "      <th>1</th>\n",
       "      <th>industrial</th>\n",
       "      <th>34</th>\n",
       "      <th>2.96</th>\n",
       "      <th>repaid</th>\n",
       "    </tr>\n",
       "  </thead>\n",
       "  <tbody>\n",
       "    <tr>\n",
       "      <th>0</th>\n",
       "      <td>2</td>\n",
       "      <td>professional</td>\n",
       "      <td>41</td>\n",
       "      <td>4.64</td>\n",
       "      <td>default</td>\n",
       "    </tr>\n",
       "    <tr>\n",
       "      <th>1</th>\n",
       "      <td>3</td>\n",
       "      <td>professional</td>\n",
       "      <td>36</td>\n",
       "      <td>3.22</td>\n",
       "      <td>default</td>\n",
       "    </tr>\n",
       "    <tr>\n",
       "      <th>2</th>\n",
       "      <td>4</td>\n",
       "      <td>professional</td>\n",
       "      <td>41</td>\n",
       "      <td>3.11</td>\n",
       "      <td>default</td>\n",
       "    </tr>\n",
       "    <tr>\n",
       "      <th>3</th>\n",
       "      <td>5</td>\n",
       "      <td>industrial</td>\n",
       "      <td>48</td>\n",
       "      <td>3.80</td>\n",
       "      <td>default</td>\n",
       "    </tr>\n",
       "    <tr>\n",
       "      <th>4</th>\n",
       "      <td>6</td>\n",
       "      <td>industrial</td>\n",
       "      <td>61</td>\n",
       "      <td>2.52</td>\n",
       "      <td>repaid</td>\n",
       "    </tr>\n",
       "    <tr>\n",
       "      <th>5</th>\n",
       "      <td>7</td>\n",
       "      <td>professional</td>\n",
       "      <td>37</td>\n",
       "      <td>1.50</td>\n",
       "      <td>repaid</td>\n",
       "    </tr>\n",
       "    <tr>\n",
       "      <th>6</th>\n",
       "      <td>8</td>\n",
       "      <td>professional</td>\n",
       "      <td>40</td>\n",
       "      <td>1.93</td>\n",
       "      <td>repaid</td>\n",
       "    </tr>\n",
       "    <tr>\n",
       "      <th>7</th>\n",
       "      <td>9</td>\n",
       "      <td>industrial</td>\n",
       "      <td>33</td>\n",
       "      <td>5.25</td>\n",
       "      <td>default</td>\n",
       "    </tr>\n",
       "    <tr>\n",
       "      <th>8</th>\n",
       "      <td>10</td>\n",
       "      <td>industrial</td>\n",
       "      <td>32</td>\n",
       "      <td>4.15</td>\n",
       "      <td>default</td>\n",
       "    </tr>\n",
       "  </tbody>\n",
       "</table>\n",
       "</div>"
      ],
      "text/plain": [
       "    1    industrial  34  2.96   repaid\n",
       "0   2  professional  41  4.64  default\n",
       "1   3  professional  36  3.22  default\n",
       "2   4  professional  41  3.11  default\n",
       "3   5    industrial  48  3.80  default\n",
       "4   6    industrial  61  2.52   repaid\n",
       "5   7  professional  37  1.50   repaid\n",
       "6   8  professional  40  1.93   repaid\n",
       "7   9    industrial  33  5.25  default\n",
       "8  10    industrial  32  4.15  default"
      ]
     },
     "execution_count": 69,
     "metadata": {},
     "output_type": "execute_result"
    }
   ],
   "source": [
    "df"
   ]
  },
  {
   "cell_type": "raw",
   "id": "458beeb7-e656-4baf-9634-f9a1241ecf02",
   "metadata": {},
   "source": [
    "for "
   ]
  }
 ],
 "metadata": {
  "kernelspec": {
   "display_name": "Python 3 (ipykernel)",
   "language": "python",
   "name": "python3"
  },
  "language_info": {
   "codemirror_mode": {
    "name": "ipython",
    "version": 3
   },
   "file_extension": ".py",
   "mimetype": "text/x-python",
   "name": "python",
   "nbconvert_exporter": "python",
   "pygments_lexer": "ipython3",
   "version": "3.12.6"
  }
 },
 "nbformat": 4,
 "nbformat_minor": 5
}
